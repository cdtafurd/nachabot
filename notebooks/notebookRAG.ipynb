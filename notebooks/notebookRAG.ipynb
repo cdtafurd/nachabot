{
 "cells": [
  {
   "cell_type": "code",
   "execution_count": 19,
   "metadata": {},
   "outputs": [],
   "source": [
    "# Get OpenAI api key\n",
    "import getpass\n",
    "import os\n",
    "\n",
    "if not os.environ.get(\"OPENAI_API_KEY\"):\n",
    "  os.environ[\"OPENAI_API_KEY\"] = getpass.getpass(\"Enter API key for OpenAI: \")"
   ]
  },
  {
   "cell_type": "markdown",
   "metadata": {},
   "source": [
    "# Model"
   ]
  },
  {
   "cell_type": "code",
   "execution_count": 20,
   "metadata": {},
   "outputs": [],
   "source": [
    "from langchain.chat_models import init_chat_model\n",
    "\n",
    "llm = init_chat_model(\"gpt-4o-mini\", model_provider=\"openai\")"
   ]
  },
  {
   "cell_type": "markdown",
   "metadata": {},
   "source": [
    "# Embedding Model"
   ]
  },
  {
   "cell_type": "code",
   "execution_count": 21,
   "metadata": {},
   "outputs": [],
   "source": [
    "import getpass\n",
    "import os\n",
    "\n",
    "if not os.environ.get(\"OPENAI_API_KEY\"):\n",
    "  os.environ[\"OPENAI_API_KEY\"] = getpass.getpass(\"Enter API key for OpenAI: \")"
   ]
  },
  {
   "cell_type": "code",
   "execution_count": 22,
   "metadata": {},
   "outputs": [],
   "source": [
    "from langchain_openai import OpenAIEmbeddings\n",
    "\n",
    "embeddings = OpenAIEmbeddings(model=\"text-embedding-3-large\")"
   ]
  },
  {
   "cell_type": "markdown",
   "metadata": {},
   "source": [
    "# Vector Store"
   ]
  },
  {
   "cell_type": "code",
   "execution_count": 23,
   "metadata": {},
   "outputs": [],
   "source": [
    "from langchain_core.vectorstores import InMemoryVectorStore\n",
    "\n",
    "vector_store = InMemoryVectorStore(embeddings)"
   ]
  },
  {
   "cell_type": "markdown",
   "metadata": {},
   "source": [
    "## Api key de langsmith"
   ]
  },
  {
   "cell_type": "code",
   "execution_count": 24,
   "metadata": {},
   "outputs": [],
   "source": [
    "os.environ[\"LANGSMITH_TRACING\"] = \"true\"\n",
    "if not os.environ.get(\"LANGSMITH_API_KEY\"):\n",
    "    os.environ[\"LANGSMITH_API_KEY\"] = getpass.getpass()"
   ]
  },
  {
   "cell_type": "markdown",
   "metadata": {},
   "source": [
    "# Chains"
   ]
  },
  {
   "cell_type": "markdown",
   "metadata": {},
   "source": [
    "# WebLoader"
   ]
  },
  {
   "cell_type": "code",
   "execution_count": 26,
   "metadata": {},
   "outputs": [],
   "source": [
    "url_admisiones_pregrado = \"https://admisiones.unal.edu.co/pregrado/\"\n",
    "# Informacion para aspirantes\n",
    "url_admisiones_pregrado_admision_a_pregrado = \"https://admisiones.unal.edu.co/pregrado/admision-a-pregrado/\"\n",
    "url_admisiones_prueba_especifica = \"https://admisiones.unal.edu.co/pregrado/admision-a-los-programas-curriculares-con-prueba-especifica-musica-musica-instrumental-artes-plasticas-y-cine-y-television/\"\n",
    "url_admisiones_aspirantes_discapacidad = \"https://admisiones.unal.edu.co/pregrado/aspirantes-con-discapacidad/\"\n",
    "url_admisiones_exalumnos = \"https://admisiones.unal.edu.co/pregrado/exalumnos-de-la-universidad-nacional-de-colombia/\"\n",
    "url_admisiones_fuera_de_colombia = \"https://admisiones.unal.edu.co/pregrado/aspirantes-que-se-encuentran-fuera-de-colombia/\"\n",
    "url_admisiones_extranjeros = \"https://admisiones.unal.edu.co/pregrado/aspirantes-extranjeros-que-desean-estudiar-en-la-universidad/\"\n",
    "# Programas de Admisión Especial (PAES)\n",
    "url_admisiones_comunidad_indigena = \"https://admisiones.unal.edu.co/pregrado/comunidades-indigenas/\"\n",
    "url_admisiones_mejores_bachilleres = \"https://admisiones.unal.edu.co/pregrado/mejores-bachilleres/\"\n",
    "url_admisiones_mejores_bachilleres_municipios_pobres = \"https://admisiones.unal.edu.co/pregrado/mejores-bachilleres-de-municipios-pobres/\"\n",
    "url_admisiones_mej_bachill_negra_afrocol_palenquera_raizal = \"https://admisiones.unal.edu.co/pregrado/mejores-bachilleres-de-poblacion-negra-afrocolombiana-palenquera-y-raizal/\"\n",
    "url_admisiones_victimas_conflicto = \"https://admisiones.unal.edu.co/pregrado/victimas-del-conflicto-armado-interno-en-colombia/\"\n",
    "# Programa Especial de Admisión y Movilidad Académica (PEAMA)\n",
    "url_admisiones_ama_car_ori_tum = \"https://admisiones.unal.edu.co/pregrado/amazonia-caribe-orinoquia-y-tumaco/\"\n",
    "# Programa de Admisión Especial con Enfoque Territorial (PAET)\n",
    "url_admisiones_paet_manizales = \"https://admisiones.unal.edu.co/pregrado/sede-manizales/\"\n",
    "url_admisiones_paet_bogota = \"https://admisiones.unal.edu.co/pregrado/sede-bogota/\"\n",
    "# Informacion sobre las pruebas\n",
    "url_admisiones_prueba_admision = \"https://admisiones.unal.edu.co/pregrado/prueba-de-admision/\"\n",
    "url_admisiones_prueba_especifica_instrumental = \"https://admisiones.unal.edu.co/pregrado/pruebas-especificas-musica-musica-instrumental-artes-plasticas-y-cine-y-television/\"\n",
    "# Pruebas específicas\n",
    "url_admisiones_musica = \"https://admisiones.unal.edu.co/pregrado/pruebas-especificas-musica-musica-instrumental-artes-plasticas-y-cine-y-television/programa-curricular-de-musica/\"\n",
    "url_admisiones_musica_instrumental = \"https://admisiones.unal.edu.co/pregrado/pruebas-especificas-musica-musica-instrumental-artes-plasticas-y-cine-y-television/programa-curricular-de-musica-instrumental/\"\n",
    "url_admisiones_musica_teoria_audicion_lectura = \"https://admisiones.unal.edu.co/pregrado/pruebas-especificas-musica-musica-instrumental-artes-plasticas-y-cine-y-television/programa-curricular-de-musica/prueba-teoria-audicion-y-lectura/\"\n",
    "# Artes Plásticas\n",
    "url_admisiones_artes_bogota = \"https://admisiones.unal.edu.co/pregrado/pruebas-especificas-musica-musica-instrumental-artes-plasticas-y-cine-y-television/programa-curricular-de-artes-plasticas-sede-bogota/\"\n",
    "url_admisiones_artes_medellin = \"https://admisiones.unal.edu.co/pregrado/pruebas-especificas-musica-musica-instrumental-artes-plasticas-y-cine-y-television/programa-curricular-de-artes-plasticas-sede-medellin/\"\n",
    "# Normativa\n",
    "url_admisiones_normativa = \"https://admisiones.unal.edu.co/pregrado/normativa-pregrado/\"\n",
    "# Paso a paso\n",
    "url_admisiones_paso_a_paso = \"https://admisiones.unal.edu.co/pregrado/guia-paso-a-paso-pregrado/\"\n",
    "# Otras informaciones\n",
    "url_demostraciones = \"https://admisiones.unal.edu.co/pregrado/demostraciones-interactivas/\"\n",
    "url_ofertas_programas = \"https://admisiones.unal.edu.co/pregrado/oferta-de-programas-curriculares/\"\n",
    "url_faq = \"https://admisiones.unal.edu.co/pregrado/preguntas-frecuentes-pregrado/\"\n"
   ]
  },
  {
   "cell_type": "code",
   "execution_count": 28,
   "metadata": {},
   "outputs": [],
   "source": [
    "web_paths = (url_admisiones_pregrado,\n",
    "                url_admisiones_pregrado_admision_a_pregrado,\n",
    "                url_admisiones_prueba_especifica,\n",
    "                url_admisiones_aspirantes_discapacidad,\n",
    "                url_admisiones_exalumnos,\n",
    "                url_admisiones_fuera_de_colombia,\n",
    "                url_admisiones_extranjeros,\n",
    "                url_admisiones_comunidad_indigena,\n",
    "                url_admisiones_mejores_bachilleres,\n",
    "                url_admisiones_mejores_bachilleres_municipios_pobres,\n",
    "                url_admisiones_mej_bachill_negra_afrocol_palenquera_raizal,\n",
    "                url_admisiones_victimas_conflicto,\n",
    "                url_admisiones_ama_car_ori_tum,\n",
    "                url_admisiones_paet_manizales,\n",
    "                url_admisiones_paet_bogota,\n",
    "                url_admisiones_prueba_admision,\n",
    "                url_admisiones_prueba_especifica_instrumental,\n",
    "                url_admisiones_musica,\n",
    "                url_admisiones_musica_instrumental,\n",
    "                url_admisiones_musica_teoria_audicion_lectura,\n",
    "                url_admisiones_artes_bogota,\n",
    "                url_admisiones_artes_medellin,\n",
    "                url_admisiones_normativa,\n",
    "                url_admisiones_paso_a_paso,\n",
    "                url_demostraciones,\n",
    "                url_ofertas_programas,\n",
    "                url_faq,\n",
    "             )"
   ]
  },
  {
   "cell_type": "code",
   "execution_count": null,
   "metadata": {},
   "outputs": [],
   "source": [
    "import bs4\n",
    "from langchain import hub\n",
    "from langchain_community.document_loaders import WebBaseLoader\n",
    "from langchain_core.documents import Document\n",
    "from langchain_text_splitters import RecursiveCharacterTextSplitter\n",
    "from typing_extensions import List, TypedDict\n",
    "\n",
    "bs4_strainer = bs4.SoupStrainer(\n",
    "    class_=(\n",
    "        \"frame frame-default frame-type-textmedia frame-layout-0\", \n",
    "        \"frame frame-default frame-type-header frame-layout-0\"\n",
    "        ),)\n",
    "\n",
    "\n",
    "# Load and chunk contents of the blog\n",
    "\n",
    "from langchain_community.document_loaders import WebBaseLoader\n",
    "\n",
    "loader = WebBaseLoader(\n",
    "    web_paths=web_paths, #lista de URLs del portal de admisiones\n",
    "    bs_kwargs={\"parse_only\": bs4_strainer},\n",
    "    bs_get_text_kwargs={\"separator\": \" \", \"strip\": True},\n",
    ")\n",
    "docs = loader.load()"
   ]
  },
  {
   "cell_type": "code",
   "execution_count": 39,
   "metadata": {},
   "outputs": [
    {
     "name": "stdout",
     "output_type": "stream",
     "text": [
      "Total characters: 174750\n"
     ]
    }
   ],
   "source": [
    "# Contar los caracteres totals de los documentos\n",
    "total_chars = 0\n",
    "for doc in docs:\n",
    "    total_chars += len(doc.page_content)\n",
    "print(f\"Total characters: {total_chars}\")"
   ]
  },
  {
   "cell_type": "code",
   "execution_count": 31,
   "metadata": {},
   "outputs": [
    {
     "name": "stdout",
     "output_type": "stream",
     "text": [
      "Total characters: 4373\n"
     ]
    }
   ],
   "source": [
    "print(f\"Total characters: {len(docs[0].page_content)}\")"
   ]
  },
  {
   "cell_type": "code",
   "execution_count": 33,
   "metadata": {},
   "outputs": [
    {
     "name": "stdout",
     "output_type": "stream",
     "text": [
      "Pregrado Convocatoria de admisión para el periodo 2025-02 FECHAS DEL PROCESO DE ADMISIÓN A PROGRAMAS CURRICULARES 2025-02 Pagar los derechos de inscripción: Del 17 de febrero al 18 de marzo de 2025 Formalizar la inscripción: Del 17 de febrero al 18 de marzo de 2025 Consultar la citación para presentar la prueba de admisión: A partir del 7 de abril de 2025 PRESENTAR LA PRUEBA DE ADMISIÓN: Domingo 27 de abril de 2025 Consultar el puntaje obtenido en la prueba de admisión: 7 de mayo de 2025 Inscribir un programa curricular (Puntaje mayor o igual a 450): Del 7 al 12 de mayo de 2025 CONSULTAR RESULTADOS ADMITIDOS: 15 de mayo de 2025 Si es admitido, enviar los documentos requeridos a la respectiva División de Registro y Matrícula, teniendo en cuenta el calendario establecido: Del 19 al  23 de  mayo de 2025 FECHAS IMPORTANTES PARA ASPIRANTES A PROGRAMAS CON PRUEBAS ESPECÍFICAS * Consultar la citación para presentar las pruebas específicas de Música (Composición, Dirección, Investigación en Pedagogía Instrumental o Jazz)  y Música Instrumental Primera prueba: 28 de marzo de 2025 Segunda prueba : 10 de abril de 2025 Presentar las pruebas específicas de Música (Composición, Dirección, Investigación en Pedagogía Instrumental o Jazz)  y Música Instrumental Primera prueba: 7 de abril de 2025 Segunda prueba: 11 de abril de 2025 CONSULTAR RESULTADOS DE ADMITIDOS A MÚSICA Y MÚSICA INSTRUMENTAL: 15 de mayo de 2025 Si es admitido a Música o Música Instrumental, enviar los documentos requeridos a la respectiva División de Registro y Matrícula, teniendo en cuenta el calendario establecido: Del 19 al 23 de mayo de 2025 Consultar si fue convocado o no para presentar las pruebas específicas de Artes Plásticas y Cine y Televisión: 7 de mayo de 2025 Presentar las pruebas específicas de Artes Plásticas y Cine y Televisión: 16 de mayo de 2025 CONSULTAR RESULTADOS DE ADMITIDOS A ARTES PLÁSTICAS Y CINE Y TELEVISIÓN: 23 de mayo de 2025 Si es admitido a Artes Plásticas o Cine y Televisión, enviar los documentos requeridos a la respectiva División de Registro y Matrícula, teniendo en cuenta el calendario establecido: Del 26 al 30 de mayo * Las pruebas específicas serán aplicadas únicamente en la Sede que ofrece el programa curricular (Bogotá o Medellín), en las fechas indicadas en la citación. Los aspirantes que se presentan a los programas curriculares con prueba específica pueden consultar información sobre las características de las pruebas aquí . FECHAS IMPORTANTES PARA TODOS LOS ASPIRANTES QUE NO FUERON ADMITIDOS A ALGÚN PROGRAMA CURRICULAR (Art. 12 de la Resolución 19 de 2022 de la Vicerrectoría Académica) Inscribir un programa curricular con cupos disponibles: Del 6 al 11 de junio de 2025 CONSULTAR RESULTADOS DE ADMITIDOS: 13 de junio de 2025 Si es admitido, enviar los documentos requeridos a la respectiva División de Registro y Matrícula, teniendo en cuenta el calendario establecido: Del 16 de junio al 20 de junio de 2025 Importante: En caso de haber sido admitido, deberá hacer uso del derecho de matrícula inicial, para lo cual deberá radicar la documentación requerida, dentro de los tiempos definidos por la respectiva Sede. En caso de no hacerlo, perderá la condición de admitido. Etapas del Proceso de Admisión Información para aspirantes Información sobre las pruebas Los Datos Personales serán tratados conforme a la Ley 1581 de 2012, o a las normas que la sustituyan o le den alcance, y a nuestra Política de Datos Personales, que podrá consultar en la página web https://unal.edu.co/ , enlace \"Protección de Datos Personales\" El nombre de la Universidad Nacional de Colombia es utilizado en forma inescrupulosa por algunos establecimientos que ofrecen cursos preuniversitarios y preIcfes. Categóricamente se advierte a la Comunidad que la Universidad Nacional de Colombia NO TIENE RELACIÓN ALGUNA con estas entidades y, por lo tanto, no se hace responsable por los resultados del adiestramiento ofrecido por ellas. La Universidad Nacional de Colombia se reserva el derecho de repetir la aplicación total o parcial de la prueba de admisión si lo considera necesario. La Universidad Nacional de Colombia NO solicita pagos para la adjudicación de cupos en los procesos de admisión a programas curriculares de Pregrado. Toda información se tramita a través de los canales oficiales de comunicación de la Universidad Nacional de Colombia.\n"
     ]
    }
   ],
   "source": [
    "print(docs[0].page_content)"
   ]
  },
  {
   "cell_type": "code",
   "execution_count": 37,
   "metadata": {},
   "outputs": [],
   "source": [
    "# Combine documents from WebBaseLoader and PyPDFLoader\n",
    "combined_documents = []\n",
    "combined_documents.extend(docs)"
   ]
  },
  {
   "cell_type": "code",
   "execution_count": 41,
   "metadata": {},
   "outputs": [
    {
     "name": "stdout",
     "output_type": "stream",
     "text": [
      "Total characters: 174750\n"
     ]
    }
   ],
   "source": [
    "# Contar los caracteres totals de los documentos\n",
    "total_chars = 0\n",
    "for doc in combined_documents:\n",
    "    total_chars += len(doc.page_content)\n",
    "print(f\"Total characters: {total_chars}\")"
   ]
  },
  {
   "cell_type": "markdown",
   "metadata": {},
   "source": [
    "# PDF loader"
   ]
  },
  {
   "cell_type": "code",
   "execution_count": null,
   "metadata": {},
   "outputs": [],
   "source": [
    "from langchain_community.document_loaders import PyPDFLoader\n",
    "\n",
    "pdf_file_paths = [\"source/PRUEBA_ESPECIALIDAD_COMPOSICION.pdf\",\n",
    "              \"source/PRUEBA_ESPECIALIDAD_DIRECCION.pdf\",\n",
    "              \"source/PRUEBA_ESPECIALIDAD_PEDAGOGIA-2025.pdf\",\n",
    "              \"source/PRUEBA_INSTRUMENTO_MUSICA.pdf\",]\n",
    "\n",
    "for pdf_path in pdf_file_paths:\n",
    "    pdf_loader = PyPDFLoader(pdf_path)\n",
    "    pdf_documents = pdf_loader.load()\n",
    "    combined_documents.extend(pdf_documents)"
   ]
  },
  {
   "cell_type": "code",
   "execution_count": null,
   "metadata": {},
   "outputs": [],
   "source": [
    "combined_documents.extend(docs)"
   ]
  },
  {
   "cell_type": "code",
   "execution_count": 38,
   "metadata": {},
   "outputs": [],
   "source": [
    "from langchain_community.document_loaders import PyPDFLoader\n",
    "\n",
    "file_path = \"source/PRUEBA_ESPECIALIDAD_DIRECCION.pdf\"\n",
    "pdf_file_paths = [\"source/PRUEBA_ESPECIALIDAD_COMPOSICION.pdf\",\n",
    "              \"source/PRUEBA_ESPECIALIDAD_DIRECCION.pdf\",\n",
    "              \"source/PRUEBA_ESPECIALIDAD_PEDAGOGIA-2025.pdf\"]\n",
    "\n",
    "#loaderPDF = PyPDFLoader(file_path)"
   ]
  },
  {
   "cell_type": "code",
   "execution_count": 42,
   "metadata": {},
   "outputs": [],
   "source": [
    "for pdf_path in pdf_file_paths:\n",
    "    pdf_loader = PyPDFLoader(pdf_path)\n",
    "    pdf_documents = pdf_loader.load()\n",
    "    combined_documents.extend(pdf_documents)"
   ]
  },
  {
   "cell_type": "code",
   "execution_count": null,
   "metadata": {},
   "outputs": [
    {
     "name": "stdout",
     "output_type": "stream",
     "text": [
      "Total characters: 178034\n"
     ]
    }
   ],
   "source": [
    "# Contar los caracteres totals de los documentos combined documents\n",
    "total_chars = 0\n",
    "for doc in combined_documents:\n",
    "    total_chars += len(doc.page_content)\n",
    "print(f\"Total characters: {total_chars}\")"
   ]
  },
  {
   "cell_type": "markdown",
   "metadata": {},
   "source": [
    "Esto generará fragmentos de 2,000 caracteres con un solapamiento de 200 caracteres, resultando en aproximadamente 111 fragmentos."
   ]
  },
  {
   "cell_type": "code",
   "execution_count": 46,
   "metadata": {},
   "outputs": [],
   "source": [
    "# Split the documents into smaller chunks\n",
    "text_splitter = RecursiveCharacterTextSplitter(chunk_size=2000, chunk_overlap=180)\n",
    "all_splits = text_splitter.split_documents(combined_documents)"
   ]
  },
  {
   "cell_type": "code",
   "execution_count": 47,
   "metadata": {},
   "outputs": [
    {
     "name": "stdout",
     "output_type": "stream",
     "text": [
      "Split webs into 111 sub-documents.\n"
     ]
    }
   ],
   "source": [
    "print(f\"Split webs into {len(all_splits)} sub-documents.\")"
   ]
  },
  {
   "cell_type": "code",
   "execution_count": 49,
   "metadata": {},
   "outputs": [],
   "source": [
    "# Storing doments in the vector store\n",
    "document_ids = vector_store.add_documents(documents=all_splits)"
   ]
  },
  {
   "cell_type": "code",
   "execution_count": 117,
   "metadata": {},
   "outputs": [
    {
     "name": "stdout",
     "output_type": "stream",
     "text": [
      "['f2fd3b18-62e4-4426-8e78-35fe64461a43', '9f0bb58d-af98-4b30-8241-61b2a4928da6', '58b436a8-c927-4cd1-bc43-e4452068949f']\n"
     ]
    }
   ],
   "source": [
    "print(document_ids[:3])"
   ]
  },
  {
   "cell_type": "markdown",
   "metadata": {},
   "source": [
    "# Retrieval and generation"
   ]
  },
  {
   "cell_type": "markdown",
   "metadata": {},
   "source": [
    "## LangGraph"
   ]
  },
  {
   "cell_type": "code",
   "execution_count": 130,
   "metadata": {},
   "outputs": [],
   "source": [
    "from langgraph.graph import MessagesState, StateGraph\n",
    "\n",
    "graph_builder = StateGraph(MessagesState)\n",
    "graph_builder2 = StateGraph(MessagesState)\n"
   ]
  },
  {
   "cell_type": "markdown",
   "metadata": {},
   "source": [
    "## Tool decorator"
   ]
  },
  {
   "cell_type": "code",
   "execution_count": 119,
   "metadata": {},
   "outputs": [],
   "source": [
    "from langchain_core.tools import tool\n",
    "\n",
    "@tool(response_format=\"content_and_artifact\")\n",
    "def retrieve(query: str):\n",
    "    \"\"\"Retrieve information related to a query.\"\"\"\n",
    "    retrieved_docs = vector_store.similarity_search(query, k=2)\n",
    "    serialized = \"\\n\\n\".join(\n",
    "        (f\"Source: {doc.metadata}\\n\" f\"Content: {doc.page_content}\")\n",
    "        for doc in retrieved_docs\n",
    "    )\n",
    "    return serialized, retrieved_docs"
   ]
  },
  {
   "cell_type": "code",
   "execution_count": 128,
   "metadata": {},
   "outputs": [],
   "source": [
    "from langchain_core.messages import SystemMessage\n",
    "from langgraph.prebuilt import ToolNode\n",
    "\n",
    "\n",
    "# Step 1: Generate an AIMessage that may include a tool-call to be sent.\n",
    "def query_or_respond(state: MessagesState):\n",
    "    \"\"\"Generate tool call for retrieval or respond.\"\"\"\n",
    "    llm_with_tools = llm.bind_tools([retrieve])\n",
    "    response = llm_with_tools.invoke(state[\"messages\"])\n",
    "    # MessagesState appends messages to state instead of overwriting\n",
    "    return {\"messages\": [response]}\n",
    "\n",
    "\n",
    "# Step 2: Execute the retrieval.\n",
    "tools = ToolNode([retrieve])\n",
    "\n",
    "\n",
    "# Step 3: Generate a response using the retrieved content.\n",
    "def generate(state: MessagesState):\n",
    "    \"\"\"Generate answer.\"\"\"\n",
    "    # Get generated ToolMessages\n",
    "    recent_tool_messages = []\n",
    "    for message in reversed(state[\"messages\"]):\n",
    "        if message.type == \"tool\":\n",
    "            recent_tool_messages.append(message)\n",
    "        else:\n",
    "            break\n",
    "    tool_messages = recent_tool_messages[::-1]\n",
    "\n",
    "    # Format into prompt\n",
    "    docs_content = \"\\n\\n\".join(doc.content for doc in tool_messages)\n",
    "    system_message_content = (\n",
    "        \"Eres un asistente para tareas de respuesta a preguntas para \"\n",
    "        \"el proceso de admisión a la Universidad Nacional de Colombia. \"\n",
    "        \"Tu nombre es Nachabot. Al iniciar una conversación, di tu nombre \"\n",
    "        \"y pregunta al usuario cómo puedes ayudarle en un tono amable. \"\n",
    "        \"Usa los siguientes fragmentos de contexto recuperado para \"\n",
    "        \"responder la pregunta. Si no sabes la respuesta, di que no \"\n",
    "        \"la sabes. Usa un máximo de tres oraciones y mantén la \"\n",
    "        \"respuesta concisa.\"\n",
    "        \"\\n\\n\"\n",
    "        f\"{docs_content}\"\n",
    "    )\n",
    "    conversation_messages = [\n",
    "        message\n",
    "        for message in state[\"messages\"]\n",
    "        if message.type in (\"human\", \"system\")\n",
    "        or (message.type == \"ai\" and not message.tool_calls)\n",
    "    ]\n",
    "    prompt = [SystemMessage(system_message_content)] + conversation_messages\n",
    "\n",
    "    # Run\n",
    "    response = llm.invoke(prompt)\n",
    "    return {\"messages\": [response]}"
   ]
  },
  {
   "cell_type": "markdown",
   "metadata": {},
   "source": [
    "## Graph"
   ]
  },
  {
   "cell_type": "code",
   "execution_count": null,
   "metadata": {},
   "outputs": [],
   "source": [
    "from langgraph.graph import END\n",
    "from langgraph.prebuilt import ToolNode, tools_condition\n",
    "\n",
    "graph_builder.add_node(query_or_respond)\n",
    "graph_builder.add_node(tools)\n",
    "graph_builder.add_node(generate)\n",
    "\n",
    "graph_builder.set_entry_point(\"query_or_respond\")\n",
    "graph_builder.add_conditional_edges(\n",
    "    \"query_or_respond\",\n",
    "    tools_condition,\n",
    "    {END: END, \"tools\": \"tools\"},\n",
    ")\n",
    "graph_builder.add_edge(\"tools\", \"generate\")\n",
    "graph_builder.add_edge(\"generate\", END)\n",
    "\n",
    "graph = graph_builder.compile()"
   ]
  },
  {
   "cell_type": "code",
   "execution_count": 131,
   "metadata": {},
   "outputs": [
    {
     "data": {
      "text/plain": [
       "<langgraph.graph.state.StateGraph at 0x1137d3130>"
      ]
     },
     "execution_count": 131,
     "metadata": {},
     "output_type": "execute_result"
    }
   ],
   "source": [
    "from langgraph.graph import END\n",
    "from langgraph.prebuilt import ToolNode, tools_condition\n",
    "\n",
    "graph_builder2.add_node(query_or_respond)\n",
    "graph_builder2.add_node(tools)\n",
    "graph_builder2.add_node(generate)\n",
    "\n",
    "graph_builder2.set_entry_point(\"query_or_respond\")\n",
    "graph_builder2.add_conditional_edges(\n",
    "    \"query_or_respond\",\n",
    "    tools_condition,\n",
    "    {END: END, \"tools\": \"tools\"},\n",
    ")\n",
    "graph_builder2.add_edge(\"tools\", \"generate\")\n",
    "graph_builder2.add_edge(\"generate\", END)\n",
    "\n",
    "#graph2 = graph_builder2.compile()"
   ]
  },
  {
   "cell_type": "code",
   "execution_count": 136,
   "metadata": {},
   "outputs": [
    {
     "data": {
      "image/png": "[encoded data removed]",
      "text/plain": [
       "<IPython.core.display.Image object>"
      ]
     },
     "metadata": {},
     "output_type": "display_data"
    }
   ],
   "source": [
    "from IPython.display import Image, display\n",
    "\n",
    "display(Image(graph.get_graph().draw_mermaid_png()))"
   ]
  },
  {
   "cell_type": "markdown",
   "metadata": {},
   "source": [
    "# Stateful management of chat history"
   ]
  },
  {
   "cell_type": "code",
   "execution_count": null,
   "metadata": {},
   "outputs": [],
   "source": [
    "from langgraph.checkpoint.memory import MemorySaver\n",
    "\n",
    "memory = MemorySaver()\n",
    "graph = graph_builder2.compile(checkpointer=memory)\n",
    "\n",
    "# Specify an ID for the thread\n",
    "config = {\"configurable\": {\"thread_id\": \"abc123\"}}"
   ]
  },
  {
   "cell_type": "code",
   "execution_count": null,
   "metadata": {},
   "outputs": [
    {
     "name": "stdout",
     "output_type": "stream",
     "text": [
      "================================\u001b[1m Human Message \u001b[0m=================================\n",
      "\n",
      "hola\n",
      "==================================\u001b[1m Ai Message \u001b[0m==================================\n",
      "\n",
      "¡Hola! ¿Cómo puedo ayudarte hoy?\n",
      "================================\u001b[1m Human Message \u001b[0m=================================\n",
      "\n",
      "que es el proceso de admision\n",
      "==================================\u001b[1m Ai Message \u001b[0m==================================\n",
      "Tool Calls:\n",
      "  retrieve (call_RQmzFUi4JQtcq8KyXDZg87Rn)\n",
      " Call ID: call_RQmzFUi4JQtcq8KyXDZg87Rn\n",
      "  Args:\n",
      "    query: proceso de admision\n",
      "=================================\u001b[1m Tool Message \u001b[0m=================================\n",
      "Name: retrieve\n",
      "\n",
      "Source: {'source': 'https://admisiones.unal.edu.co/pregrado/mejores-bachilleres-de-poblacion-negra-afrocolombiana-palenquera-y-raizal/'}\n",
      "Content: en las bases de datos de la Dirección Nacional de Admisiones. 4. Pasos que deben seguirse para la inscripción 1. Cumplir con los requisitos anteriormente mencionados. 2. Ser autorizados por la institución en el Sistema de la Dirección Nacional de Admisiones mediante usuario y contraseña en las fechas establecidas.(*) 3. Realizar la formalización de la inscripción de acuerdo con la Guía paso a paso, dentro del cronograma establecido para la convocatoria. (*) Este procedimiento solo podrá realizarse cuando el estudiante no haya hecho, previamente en la convocatoria, la formalización de su inscripción. En caso contrario, el colegio deberá comunicarse DE MANERA INMEDIATA con la Dirección Nacional de Admisiones.\n",
      "\n",
      "Source: {'source': 'https://admisiones.unal.edu.co/pregrado/mejores-bachilleres-de-municipios-pobres/'}\n",
      "Content: través de un oficio debidamente firmado por el(la) rector(a), en caso de que actualice la información correspondiente a nombre, jornada, código ICFES, cuenta de correo electrónico institucional o teléfonos de contacto, a fin de actualizar la información de la institución en las bases de datos de la Dirección Nacional de Admisiones. 4. Pasos que deben seguirse para la inscripción 1. Cumplir con los requisitos anteriormente mencionados. 2. Ser autorizados por la institución en el Sistema de la Dirección Nacional de Admisiones mediante usuario y contraseña en las fechas establecidas.(*) 3. Realizar la formalización de la inscripción de acuerdo con la Guía paso a paso, dentro del cronograma establecido para la convocatoria. (*) Este procedimiento solo podrá realizarse cuando el estudiante no haya hecho, previamente en la convocatoria, la formalización de su inscripción. En caso contrario, el colegio deberá comunicarse DE MANERA INMEDIATA con la Dirección Nacional de Admisiones.\n",
      "==================================\u001b[1m Ai Message \u001b[0m==================================\n",
      "\n",
      "El proceso de admisión a la Universidad Nacional de Colombia incluye cumplir con ciertos requisitos, ser autorizado por la institución en el Sistema de la Dirección Nacional de Admisiones y formalizar la inscripción según un cronograma establecido. Para más detalles, puedes consultar la guía específica proporcionada por la universidad. Si necesitas información sobre un aspecto particular, házmelo saber.\n",
      "================================\u001b[1m Human Message \u001b[0m=================================\n",
      "\n",
      "cual es el puntaje para ser admitido\n",
      "==================================\u001b[1m Ai Message \u001b[0m==================================\n",
      "Tool Calls:\n",
      "  retrieve (call_KUu6PgJisfDRefz9MF9TwqIy)\n",
      " Call ID: call_KUu6PgJisfDRefz9MF9TwqIy\n",
      "  Args:\n",
      "    query: puntaje requerido para ser admitido a la Universidad Nacional de Colombia\n",
      "=================================\u001b[1m Tool Message \u001b[0m=================================\n",
      "Name: retrieve\n",
      "\n",
      "Source: {'source': 'https://admisiones.unal.edu.co/pregrado/prueba-de-admision/'}\n",
      "Content: directamente relacionada con el número de respuestas correctas y, para cada componente, se hace una estandarización de dicha habilidad, con una media en 10 y una desviación de 1. Finalmente, se consolida la habilidad total con base en las habilidades obtenidas en los componentes evaluados.  Esta habilidad total se estandariza con un procedimiento semejante al que se hizo por componente, pero con media en 500 y desviación en 100.  Este puntaje total estandarizado es el que se tiene en cuenta en el proceso de Admisión. Admisión El proceso de admisión atiende lo definido en la Resolución 19 de 2022 , de la Vicerrectoría Académica, por la cual se reglamenta la admisión a los programas curriculares de pregrado de la Universidad Nacional de Colombia. La admisión comprende dos momentos de asignación de cupos, de la siguiente manera: La primera asignación de cupos inicia con la inscripción de un programa curricular por parte de los aspirantes que obtuvieron un puntaje mayor o igual a 450, en un período de tiempo definido para hacerlo.A continuación, cumplido ese periodo de tiempo, los cupos se asignan en estricto orden de puntaje total descendente hasta el cupo ofrecido, para cada programa curricular. La segunda asignación de cupos va dirigida a los aspirantes que no han sido admitidos, quienes deben inscribir un programa curricular sólo entre los programas que tienen cupo disponible, en un período de tiempo definido para hacerlo. Este cupo resulta de los cupos que dejan los admitidos que no entregaron los documentos requeridos para la matrícula y de los cupos que no se otorgaron en su totalidad en la primera asignación. A continuación, los cupos se asignan en estricto orden de puntaje total descendente hasta el cupo disponible para esta segunda asignación, para cada programa curricular. Todo el proceso de Lectura, Calificación y Admisión se realiza en presencia de profesores de la Universidad Nacional, designados como auditores del proceso de lectura, calificación y\n",
      "\n",
      "Source: {'source': 'https://admisiones.unal.edu.co/pregrado/victimas-del-conflicto-armado-interno-en-colombia/'}\n",
      "Content: curricular de la Universidad Nacional de Colombia se requiere inscribirse dentro de las fechas y bajo las condiciones establecidas en la convocatoria, obtener un puntaje de admisión que lo(a) ubique dentro del cupo del programa curricular inscrito, no incurrir en las prohibiciones previstas en la normativa vigente y no encontrarse bajo los efectos de sanciones disciplinarias vigentes por parte de la Universidad Nacional de Colombia.\n",
      "==================================\u001b[1m Ai Message \u001b[0m==================================\n",
      "\n",
      "Para ser admitido en un programa curricular de la Universidad Nacional de Colombia, debes obtener un puntaje de admisión mayor o igual a 450. Este puntaje se considera en el proceso de asignación de cupos. Si necesitas más información sobre la prueba de admisión, no dudes en preguntar.\n",
      "================================\u001b[1m Human Message \u001b[0m=================================\n",
      "\n",
      "que son las pruebas especificas\n",
      "==================================\u001b[1m Ai Message \u001b[0m==================================\n",
      "Tool Calls:\n",
      "  retrieve (call_xMu2rYQZIQimzomYxOIUUdiK)\n",
      " Call ID: call_xMu2rYQZIQimzomYxOIUUdiK\n",
      "  Args:\n",
      "    query: pruebas específicas en el proceso de admisión\n",
      "=================================\u001b[1m Tool Message \u001b[0m=================================\n",
      "Name: retrieve\n",
      "\n",
      "Source: {'source': 'https://admisiones.unal.edu.co/pregrado/pruebas-especificas-musica-musica-instrumental-artes-plasticas-y-cine-y-television/'}\n",
      "Content: Pruebas Específicas Programas curriculares de Música (Composición, Dirección, Jazz, Investigación en Pedagogía Instrumental) y Música Instrumental La prueba específica de los programas de Música y Música Instrumental está conformada por dos pruebas: instrumental y  teoría, audición y lectura. Todos los aspirantes inscritos en estos programas serán citados para presentar la prueba de instrumento. Aquellos aspirantes que superen el puntaje mínimo de aprobación en esa prueba serán citados para presentar la prueba de teoría, audición y lectura; y los aspirantes al programa de Música también serán citados para presentar la prueba de especialidad. Cada una de estas pruebas es eliminatoria, es decir, requiere un puntaje mínimo para ser superada. Música Música Instrumental Programa curricular de Artes Plásticas (Sede Bogotá) La prueba específica del programa curricular de Artes Plásticas (Sede Bogotá) está conformada por tres componentes que pretenden reconocer de manera integral algunas de las habilidades propias de la creación artística. Los componentes que conforman la prueba son: Trabajo plástico: se espera que el aspirante logre analizar e interpretar la imagen y el sonido en sus implicaciones y relaciones para lograr una asociación entre estos, así como identificar, sintetizar y abstraer lo fundamental de la obra plástica de otros y de la propia. Reflexión escrita: argumentar y expresar las ideas con claridad, profundidad y concisión, a través de un escrito. Entrevista: dar a conocer y sustentar verbalmente sus ideas. Los aspirantes convocados a presentar la prueba específica tendrán dos (2) sesiones, una en la mañana y otra en la tarde, las cuales son de obligatorio cumplimiento. Para la presentación de la prueba específica, es necesario que el aspirante aporte algunos elementos que le serán informados en la citación para las sesiones de evaluación. Consulte la información aquí Programa curricular de Artes Plásticas (Sede Medellín) La finalidad de esta prueba\n",
      "\n",
      "Source: {'source': 'https://admisiones.unal.edu.co/pregrado/pruebas-especificas-musica-musica-instrumental-artes-plasticas-y-cine-y-television/'}\n",
      "Content: Pruebas Específicas Programas curriculares de Música (Composición, Dirección, Jazz, Investigación en Pedagogía Instrumental) y Música Instrumental La prueba específica de los programas de Música y Música Instrumental está conformada por dos pruebas: instrumental y  teoría, audición y lectura. Todos los aspirantes inscritos en estos programas serán citados para presentar la prueba de instrumento. Aquellos aspirantes que superen el puntaje mínimo de aprobación en esa prueba serán citados para presentar la prueba de teoría, audición y lectura; y los aspirantes al programa de Música también serán citados para presentar la prueba de especialidad. Cada una de estas pruebas es eliminatoria, es decir, requiere un puntaje mínimo para ser superada. Música Música Instrumental Programa curricular de Artes Plásticas (Sede Bogotá) La prueba específica del programa curricular de Artes Plásticas (Sede Bogotá) está conformada por tres componentes que pretenden reconocer de manera integral algunas de las habilidades propias de la creación artística. Los componentes que conforman la prueba son: Trabajo plástico: se espera que el aspirante logre analizar e interpretar la imagen y el sonido en sus implicaciones y relaciones para lograr una asociación entre estos, así como identificar, sintetizar y abstraer lo fundamental de la obra plástica de otros y de la propia. Reflexión escrita: argumentar y expresar las ideas con claridad, profundidad y concisión, a través de un escrito. Entrevista: dar a conocer y sustentar verbalmente sus ideas. Los aspirantes convocados a presentar la prueba específica tendrán dos (2) sesiones, una en la mañana y otra en la tarde, las cuales son de obligatorio cumplimiento. Para la presentación de la prueba específica, es necesario que el aspirante aporte algunos elementos que le serán informados en la citación para las sesiones de evaluación. Consulte la información aquí Programa curricular de Artes Plásticas (Sede Medellín) La finalidad de esta prueba\n",
      "==================================\u001b[1m Ai Message \u001b[0m==================================\n",
      "\n",
      "Las pruebas específicas son evaluaciones que deben presentar los aspirantes a ciertos programas curriculares, como Música, Música Instrumental, Artes Plásticas y otros. Estas pruebas están diseñadas para medir habilidades y conocimientos específicos relacionados con el área de estudio. Cada programa puede tener diferentes componentes y requisitos para superarlas. Si deseas detalles sobre un programa en particular, házmelo saber.\n",
      "================================\u001b[1m Human Message \u001b[0m=================================\n",
      "\n",
      "tener un puntaj mayor a 450 significa que soy estudiante?\n",
      "==================================\u001b[1m Ai Message \u001b[0m==================================\n",
      "\n",
      "Tener un puntaje mayor o igual a 450 en el proceso de admisión significa que has alcanzado el puntaje mínimo requerido para ser considerado para la admisión en un programa curricular de la Universidad Nacional de Colombia. Sin embargo, no garantiza automáticamente que seas admitido; esto depende también de la disponibilidad de cupos y de tu posición en comparación con otros aspirantes. Si eres asignado un cupo, entonces serías considerado estudiante de la universidad.\n",
      "================================\u001b[1m Human Message \u001b[0m=================================\n",
      "\n",
      "para presentarme a la sede bogota tengo que ahcer las pñrueabs en bogota?\n",
      "==================================\u001b[1m Ai Message \u001b[0m==================================\n",
      "\n",
      "Sí, si deseas presentarte para un programa curricular en la sede Bogotá de la Universidad Nacional de Colombia, debes presentar las pruebas específicas en esa sede. Esto incluye la evaluación que corresponda a tu programa de estudio. Te recomendaría verificar la información específica sobre fechas y ubicación en el sitio web de la universidad o en la convocatoria correspondiente. Si necesitas más detalles, estaré encantado de ayudar.\n",
      "================================\u001b[1m Human Message \u001b[0m=================================\n",
      "\n",
      "pero no hablo de preurbas especificas\n",
      "==================================\u001b[1m Ai Message \u001b[0m==================================\n",
      "\n",
      "Mis disculpas por la confusión. Si te refieres a las pruebas de admisión generales y no solo a las pruebas específicas, sí, generalmente debes realizar todas las pruebas programadas para la sede donde deseas ser admitido. Es importante consultar la información oficial de la universidad para conocer los detalles sobre la ubicación y el tipo de pruebas que se aplican en cada sede. ¿Te gustaría que buscara información adicional sobre este tema?\n",
      "================================\u001b[1m Human Message \u001b[0m=================================\n",
      "\n",
      "si\n",
      "==================================\u001b[1m Ai Message \u001b[0m==================================\n",
      "Tool Calls:\n",
      "  retrieve (call_h1DlNICJnmhvLJfecaSshugR)\n",
      " Call ID: call_h1DlNICJnmhvLJfecaSshugR\n",
      "  Args:\n",
      "    query: pruebas de admisión sede Bogotá Universidad Nacional de Colombia\n",
      "=================================\u001b[1m Tool Message \u001b[0m=================================\n",
      "Name: retrieve\n",
      "\n",
      "Source: {'source': 'https://admisiones.unal.edu.co/pregrado/prueba-de-admision/'}\n",
      "Content: Prueba de Admisión La Universidad Nacional de Colombia realiza anualmente dos procesos de admisión de aspirantes. Para elegir el grupo de nuevos estudiantes en cada proceso, se realiza una evaluación que rastrea el nivel de comprensión de los conceptos básicos que se requieren para adelantar estudios universitarios. Esta comprensión se evidencia en el reconocimiento y uso significativo de las estructuras y códigos propios de la matemática, las ciencias naturales, las ciencias sociales y las artes. El reconocimiento y uso significativo se demuestra en la interacción con textos y contextos, y en el planteamiento y en la solución de problemas para los que ese saber es pertinente. Por esto, para desarrollar la evaluación se utilizan textos, gráficas, problemas contextualizados e imágenes de diferente tipo. Componentes de la prueba Análisis textual 25 preguntas Mediante textos de tipo referencial (escritos sobre ciencias naturales, ciencias humanas, tecnología y artes) o de tipo poético-literario (poemas, cuentos, fragmentos de novelas, ensayos o crónicas) se indaga sobre su comprensión e interpretación en los niveles literal, inferencial y crítico-intertextual, con énfasis en los dos últimos. Matemáticas Pensamiento numérico Pensamiento espacial y métrico Pensamiento aleatorio Pensamiento variacional 25 preguntas A través de problemas contextualizados se explora el nivel de apropiación y comprensión de los conceptos básicos de las áreas examinadas. Las preguntas tienen como propósito estimular la reflexión a través del reconocimiento, la interpretación y la aplicación de conceptos en diversas situaciones. Con gráficas , tablas u otro tipo de esquema, que representan conceptos y procesos, se estimula su interpretación para poner en juego y reconocer habilidades cognitivas importantes como el análisis, la síntesis y la deducción. Ciencias Naturales Física Química Biología 25 preguntas Ciencias Sociales Geografía Historia Filosofía 25 preguntas Análisis de la imagen 20\n",
      "\n",
      "Source: {'source': 'https://admisiones.unal.edu.co/pregrado/'}\n",
      "Content: por algunos establecimientos que ofrecen cursos preuniversitarios y preIcfes. Categóricamente se advierte a la Comunidad que la Universidad Nacional de Colombia NO TIENE RELACIÓN ALGUNA con estas entidades y, por lo tanto, no se hace responsable por los resultados del adiestramiento ofrecido por ellas. La Universidad Nacional de Colombia se reserva el derecho de repetir la aplicación total o parcial de la prueba de admisión si lo considera necesario. La Universidad Nacional de Colombia NO solicita pagos para la adjudicación de cupos en los procesos de admisión a programas curriculares de Pregrado. Toda información se tramita a través de los canales oficiales de comunicación de la Universidad Nacional de Colombia.\n",
      "==================================\u001b[1m Ai Message \u001b[0m==================================\n",
      "\n",
      "Lamentablemente, no tengo acceso a información más específica en este momento. Te recomiendo que consultes el sitio web oficial de la Universidad Nacional de Colombia o que te comuniques con la Dirección de Admisiones para obtener la información más actualizada sobre el proceso de admisión y las ubicaciones para presentar las pruebas. Si tienes más preguntas, estaré aquí para ayudarte.\n"
     ]
    }
   ],
   "source": [
    "from langgraph.checkpoint.memory import MemorySaver\n",
    "\n",
    "memory = MemorySaver()\n",
    "graph = graph_builder2.compile(checkpointer=memory)\n",
    "\n",
    "# Specify an ID for the thread\n",
    "config = {\"configurable\": {\"thread_id\": \"abc123\"}}\n",
    "\n",
    "while True:\n",
    "    input_message = input(\"You: \")\n",
    "    \n",
    "    if input_message.lower() == \"exit\":\n",
    "        break\n",
    "\n",
    "    for step in graph.stream(\n",
    "        {\"messages\": [{\"role\": \"user\", \"content\": input_message}]},\n",
    "        stream_mode=\"values\",\n",
    "        config=config,\n",
    "    ):\n",
    "        step[\"messages\"][-1].pretty_print()"
   ]
  }
 ],
 "metadata": {
  "kernelspec": {
   "display_name": "3.10.15",
   "language": "python",
   "name": "python3"
  },
  "language_info": {
   "codemirror_mode": {
    "name": "ipython",
    "version": 3
   },
   "file_extension": ".py",
   "mimetype": "text/x-python",
   "name": "python",
   "nbconvert_exporter": "python",
   "pygments_lexer": "ipython3",
   "version": "3.10.15"
  }
 },
 "nbformat": 4,
 "nbformat_minor": 2
}
