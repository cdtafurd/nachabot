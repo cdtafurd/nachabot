{
  "cells": [
    {
      "cell_type": "code",
      "execution_count": null,
      "metadata": {
        "colab": {
          "base_uri": "https://localhost:8080/"
        },
        "id": "XIywbKw0G7cL",
        "outputId": "2fe66b2f-65ed-4e03-b084-98a140d5e264"
      },
      "outputs": [
        {
          "name": "stdout",
          "output_type": "stream",
          "text": [
            "\u001b[2K     \u001b[90m━━━━━━━━━━━━━━━━━━━━━━━━━━━━━━━━━━━━━━━━\u001b[0m \u001b[32m43.5/43.5 kB\u001b[0m \u001b[31m432.7 kB/s\u001b[0m eta \u001b[36m0:00:00\u001b[0m\n",
            "\u001b[2K   \u001b[90m━━━━━━━━━━━━━━━━━━━━━━━━━━━━━━━━━━━━━━━━\u001b[0m \u001b[32m2.5/2.5 MB\u001b[0m \u001b[31m16.6 MB/s\u001b[0m eta \u001b[36m0:00:00\u001b[0m\n",
            "\u001b[2K   \u001b[90m━━━━━━━━━━━━━━━━━━━━━━━━━━━━━━━━━━━━━━━━\u001b[0m \u001b[32m138.0/138.0 kB\u001b[0m \u001b[31m2.7 MB/s\u001b[0m eta \u001b[36m0:00:00\u001b[0m\n",
            "\u001b[2K   \u001b[90m━━━━━━━━━━━━━━━━━━━━━━━━━━━━━━━━━━━━━━━━\u001b[0m \u001b[32m41.9/41.9 kB\u001b[0m \u001b[31m1.4 MB/s\u001b[0m eta \u001b[36m0:00:00\u001b[0m\n",
            "\u001b[2K   \u001b[90m━━━━━━━━━━━━━━━━━━━━━━━━━━━━━━━━━━━━━━━━\u001b[0m \u001b[32m47.1/47.1 kB\u001b[0m \u001b[31m1.7 MB/s\u001b[0m eta \u001b[36m0:00:00\u001b[0m\n",
            "\u001b[2K   \u001b[90m━━━━━━━━━━━━━━━━━━━━━━━━━━━━━━━━━━━━━━━━\u001b[0m \u001b[32m194.8/194.8 kB\u001b[0m \u001b[31m8.4 MB/s\u001b[0m eta \u001b[36m0:00:00\u001b[0m\n",
            "\u001b[2K   \u001b[90m━━━━━━━━━━━━━━━━━━━━━━━━━━━━━━━━━━━━━━━━\u001b[0m \u001b[32m50.9/50.9 kB\u001b[0m \u001b[31m1.7 MB/s\u001b[0m eta \u001b[36m0:00:00\u001b[0m\n",
            "\u001b[2K   \u001b[90m━━━━━━━━━━━━━━━━━━━━━━━━━━━━━━━━━━━━━━━━\u001b[0m \u001b[32m223.7/223.7 kB\u001b[0m \u001b[31m7.6 MB/s\u001b[0m eta \u001b[36m0:00:00\u001b[0m\n",
            "\u001b[?25h"
          ]
        }
      ],
      "source": [
        "%pip install --quiet --upgrade langchain-text-splitters langchain-community langgraph"
      ]
    },
    {
      "cell_type": "code",
      "execution_count": null,
      "metadata": {
        "colab": {
          "base_uri": "https://localhost:8080/"
        },
        "id": "0BCzK5lZHH-U",
        "outputId": "a508c945-8fd1-496b-9b59-cbab803149a8"
      },
      "outputs": [],
      "source": [
        "import getpass\n",
        "import os\n",
        "\n",
        "os.environ[\"LANGSMITH_TRACING\"] = \"true\"\n",
        "os.environ[\"LANGSMITH_API_KEY\"] = getpass.getpass()"
      ]
    },
    {
      "cell_type": "code",
      "execution_count": null,
      "metadata": {
        "colab": {
          "base_uri": "https://localhost:8080/"
        },
        "id": "r6B4weKQdVGK",
        "outputId": "dd9e1e55-1c19-4c99-93a6-f727a24c6bfe"
      },
      "outputs": [
        {
          "name": "stdout",
          "output_type": "stream",
          "text": [
            "\u001b[?25l   \u001b[90m━━━━━━━━━━━━━━━━━━━━━━━━━━━━━━━━━━━━━━━━\u001b[0m \u001b[32m0.0/60.1 kB\u001b[0m \u001b[31m?\u001b[0m eta \u001b[36m-:--:--\u001b[0m\r\u001b[2K   \u001b[90m━━━━━━━━━━━━━━━━━━━━━━━━━━━━━━━━━━━━━━━━\u001b[0m \u001b[32m60.1/60.1 kB\u001b[0m \u001b[31m3.4 MB/s\u001b[0m eta \u001b[36m0:00:00\u001b[0m\n",
            "\u001b[2K   \u001b[90m━━━━━━━━━━━━━━━━━━━━━━━━━━━━━━━━━━━━━━━━\u001b[0m \u001b[32m420.1/420.1 kB\u001b[0m \u001b[31m11.1 MB/s\u001b[0m eta \u001b[36m0:00:00\u001b[0m\n",
            "\u001b[2K   \u001b[90m━━━━━━━━━━━━━━━━━━━━━━━━━━━━━━━━━━━━━━━━\u001b[0m \u001b[32m1.2/1.2 MB\u001b[0m \u001b[31m41.0 MB/s\u001b[0m eta \u001b[36m0:00:00\u001b[0m\n",
            "\u001b[?25h"
          ]
        }
      ],
      "source": [
        "pip install -qU langchain-openai"
      ]
    },
    {
      "cell_type": "markdown",
      "metadata": {
        "id": "VvTXsVDyldTV"
      },
      "source": [
        "# Chat model"
      ]
    },
    {
      "cell_type": "code",
      "execution_count": null,
      "metadata": {
        "colab": {
          "base_uri": "https://localhost:8080/"
        },
        "id": "2zUKrhDtdRk9",
        "outputId": "d1db7e9e-7964-436b-ab6d-9a04b3a15e4c"
      },
      "outputs": [],
      "source": [
        "import getpass\n",
        "import os\n",
        "\n",
        "if not os.environ.get(\"OPENAI_API_KEY\"):\n",
        "  os.environ[\"OPENAI_API_KEY\"] = getpass.getpass(\"Enter API key for OpenAI: \")\n",
        "\n",
        "from langchain.chat_models import init_chat_model\n",
        "\n",
        "llm = init_chat_model(\"gpt-4o-mini\", model_provider=\"openai\")"
      ]
    },
    {
      "cell_type": "markdown",
      "metadata": {
        "id": "etcyV5AkmMn2"
      },
      "source": [
        "# Embedding model"
      ]
    },
    {
      "cell_type": "code",
      "execution_count": null,
      "metadata": {
        "id": "8OXbvuzngDgc"
      },
      "outputs": [],
      "source": [
        "from langchain_openai import OpenAIEmbeddings\n",
        "\n",
        "embeddings = OpenAIEmbeddings(model=\"text-embedding-3-large\")"
      ]
    },
    {
      "cell_type": "markdown",
      "metadata": {
        "id": "3VaKZkEDmSNW"
      },
      "source": [
        "# Vector store"
      ]
    },
    {
      "cell_type": "markdown",
      "metadata": {
        "id": "SkRKjOvEAKjk"
      },
      "source": [
        "Opción en memoria"
      ]
    },
    {
      "cell_type": "code",
      "execution_count": null,
      "metadata": {
        "id": "ipokB9QPf8ME"
      },
      "outputs": [],
      "source": [
        "from langchain_core.vectorstores import InMemoryVectorStore\n",
        "\n",
        "vector_store_xd = InMemoryVectorStore(embeddings)"
      ]
    },
    {
      "cell_type": "markdown",
      "metadata": {
        "id": "sVuJaAtmAPPR"
      },
      "source": [
        "Opción AstraDB"
      ]
    },
    {
      "cell_type": "code",
      "execution_count": null,
      "metadata": {
        "colab": {
          "base_uri": "https://localhost:8080/"
        },
        "id": "PwvRYS8SAJEd",
        "outputId": "79b93bf5-ade5-4169-dcad-43d6b137d1c5"
      },
      "outputs": [
        {
          "name": "stdout",
          "output_type": "stream",
          "text": [
            "\u001b[2K     \u001b[90m━━━━━━━━━━━━━━━━━━━━━━━━━━━━━━━━━━━━━━━━\u001b[0m \u001b[32m61.0/61.0 kB\u001b[0m \u001b[31m2.6 MB/s\u001b[0m eta \u001b[36m0:00:00\u001b[0m\n",
            "\u001b[2K   \u001b[90m━━━━━━━━━━━━━━━━━━━━━━━━━━━━━━━━━━━━━━━━\u001b[0m \u001b[32m58.7/58.7 kB\u001b[0m \u001b[31m4.0 MB/s\u001b[0m eta \u001b[36m0:00:00\u001b[0m\n",
            "\u001b[2K   \u001b[90m━━━━━━━━━━━━━━━━━━━━━━━━━━━━━━━━━━━━━━━━\u001b[0m \u001b[32m177.1/177.1 kB\u001b[0m \u001b[31m7.5 MB/s\u001b[0m eta \u001b[36m0:00:00\u001b[0m\n",
            "\u001b[2K   \u001b[90m━━━━━━━━━━━━━━━━━━━━━━━━━━━━━━━━━━━━━━━━\u001b[0m \u001b[32m18.3/18.3 MB\u001b[0m \u001b[31m86.4 MB/s\u001b[0m eta \u001b[36m0:00:00\u001b[0m\n",
            "\u001b[2K   \u001b[90m━━━━━━━━━━━━━━━━━━━━━━━━━━━━━━━━━━━━━━━━\u001b[0m \u001b[32m1.4/1.4 MB\u001b[0m \u001b[31m58.9 MB/s\u001b[0m eta \u001b[36m0:00:00\u001b[0m\n",
            "\u001b[2K   \u001b[90m━━━━━━━━━━━━━━━━━━━━━━━━━━━━━━━━━━━━━━━━\u001b[0m \u001b[32m313.6/313.6 kB\u001b[0m \u001b[31m23.6 MB/s\u001b[0m eta \u001b[36m0:00:00\u001b[0m\n",
            "\u001b[?25h"
          ]
        }
      ],
      "source": [
        "pip install -qU langchain-astradb"
      ]
    },
    {
      "cell_type": "code",
      "execution_count": null,
      "metadata": {
        "id": "F_HE6MKUAFRe"
      },
      "outputs": [],
      "source": [
        "from langchain_astradb import AstraDBVectorStore\n",
        "\n",
        "vector_store = AstraDBVectorStore(\n",
        "    embedding=embeddings,\n",
        "    api_endpoint=ASTRA_DB_API_ENDPOINT,\n",
        "    collection_name=\"astra_vector_langchain\",\n",
        "    token=ASTRA_DB_APPLICATION_TOKEN,\n",
        "    namespace=ASTRA_DB_NAMESPACE,\n",
        ")"
      ]
    },
    {
      "cell_type": "markdown",
      "metadata": {
        "id": "e4PGrRBGAb3K"
      },
      "source": [
        "Opción faiss"
      ]
    },
    {
      "cell_type": "code",
      "execution_count": null,
      "metadata": {
        "colab": {
          "base_uri": "https://localhost:8080/"
        },
        "id": "PWsuwbeiAfBX",
        "outputId": "27a8e860-510d-418d-d209-ef67fa5b4f91"
      },
      "outputs": [
        {
          "name": "stdout",
          "output_type": "stream",
          "text": [
            "\u001b[2K   \u001b[90m━━━━━━━━━━━━━━━━━━━━━━━━━━━━━━━━━━━━━━━━\u001b[0m \u001b[32m30.7/30.7 MB\u001b[0m \u001b[31m48.2 MB/s\u001b[0m eta \u001b[36m0:00:00\u001b[0m\n",
            "\u001b[?25h"
          ]
        }
      ],
      "source": [
        "pip install -qU langchain-community faiss-cpu"
      ]
    },
    {
      "cell_type": "code",
      "execution_count": null,
      "metadata": {
        "id": "rOLcZNUuAhc1"
      },
      "outputs": [],
      "source": [
        "import faiss\n",
        "from langchain_community.docstore.in_memory import InMemoryDocstore\n",
        "from langchain_community.vectorstores import FAISS\n",
        "\n",
        "embedding_dim = len(embeddings.embed_query(\"hello world\"))\n",
        "index = faiss.IndexFlatL2(embedding_dim)\n",
        "\n",
        "vector_store = FAISS(\n",
        "    embedding_function=embeddings,\n",
        "    index=index,\n",
        "    docstore=InMemoryDocstore(),\n",
        "    index_to_docstore_id={},\n",
        ")"
      ]
    },
    {
      "cell_type": "markdown",
      "metadata": {
        "id": "apMfiheBmfVC"
      },
      "source": [
        "# Implementación"
      ]
    },
    {
      "cell_type": "code",
      "execution_count": null,
      "metadata": {
        "id": "eYUp5UF0fn7C"
      },
      "outputs": [],
      "source": [
        "import bs4\n",
        "from langchain import hub\n",
        "from langchain_community.document_loaders import WebBaseLoader\n",
        "from langchain_core.documents import Document\n",
        "from langchain_text_splitters import RecursiveCharacterTextSplitter\n",
        "from langgraph.graph import START, StateGraph\n",
        "from typing_extensions import List, TypedDict\n",
        "\n",
        "# Load and chunk contents of the blog\n",
        "loader = WebBaseLoader(\n",
        "    web_paths=(\"https://admisiones.unal.edu.co/pregrado/\",),\n",
        "    bs_kwargs=dict(\n",
        "        parse_only=bs4.SoupStrainer(\n",
        "            class_=(\"post-content\", \"post-title\", \"post-header\", \"frame frame-default frame-type-textmedia frame-layout-0\")\n",
        "        )\n",
        "    ),\n",
        ")\n",
        "docs = loader.load()\n",
        "\n",
        "text_splitter = RecursiveCharacterTextSplitter(chunk_size=1000, chunk_overlap=200)\n",
        "all_splits = text_splitter.split_documents(docs)\n",
        "\n",
        "# Index chunks\n",
        "_ = vector_store.add_documents(documents=all_splits)\n",
        "\n",
        "# Define prompt for question-answering\n",
        "prompt = hub.pull(\"rlm/rag-prompt\")\n",
        "\n",
        "\n",
        "# Define state for application\n",
        "class State(TypedDict):\n",
        "    question: str\n",
        "    context: List[Document]\n",
        "    answer: str\n",
        "\n",
        "\n",
        "# Define application steps\n",
        "def retrieve(state: State):\n",
        "    retrieved_docs = vector_store.similarity_search(state[\"question\"])\n",
        "    return {\"context\": retrieved_docs}\n",
        "\n",
        "\n",
        "def generate(state: State):\n",
        "    docs_content = \"\\n\\n\".join(doc.page_content for doc in state[\"context\"])\n",
        "    messages = prompt.invoke({\"question\": state[\"question\"], \"context\": docs_content})\n",
        "    response = llm.invoke(messages)\n",
        "    return {\"answer\": response.content}\n",
        "\n",
        "\n",
        "# Compile application and test\n",
        "graph_builder = StateGraph(State).add_sequence([retrieve, generate])\n",
        "graph_builder.add_edge(START, \"retrieve\")\n",
        "graph = graph_builder.compile()"
      ]
    },
    {
      "cell_type": "code",
      "execution_count": null,
      "metadata": {
        "colab": {
          "base_uri": "https://localhost:8080/",
          "height": 251
        },
        "id": "EjUVo6u6oRk8",
        "outputId": "deba6467-cdce-42ed-9330-1494439a1a70"
      },
      "outputs": [
        {
          "data": {
            "image/png": "[encoded data removed]",
            "text/plain": [
              "<langgraph.graph.state.CompiledStateGraph object at 0x7eccc923bc50>"
            ]
          },
          "execution_count": 11,
          "metadata": {},
          "output_type": "execute_result"
        }
      ],
      "source": [
        "graph"
      ]
    },
    {
      "cell_type": "code",
      "execution_count": null,
      "metadata": {
        "colab": {
          "base_uri": "https://localhost:8080/"
        },
        "id": "BOJvDJJSh7uZ",
        "outputId": "8c74e8ed-2760-4aa2-ee9c-881328e94564"
      },
      "outputs": [
        {
          "name": "stdout",
          "output_type": "stream",
          "text": [
            "Las fechas del proceso de admisión a programas curriculares 2025-02 son: pagar y formalizar la inscripción del 17 de febrero al 18 de marzo de 2025, presentar la prueba de admisión el 27 de abril de 2025, y consultar resultados de admitidos el 15 de mayo de 2025. Además, si es admitido, debe enviar documentos entre el 19 y 23 de mayo de 2025.\n"
          ]
        }
      ],
      "source": [
        "response = graph.invoke({\"question\": \"Hola, cuales son las fechas DEL PROCESO DE ADMISIÓN A PROGRAMAS CURRICULARES 2025-02\"})\n",
        "print(response[\"answer\"])"
      ]
    },
    {
      "cell_type": "markdown",
      "metadata": {
        "id": "h9JJgcDu-5lM"
      },
      "source": [
        "# Detalles"
      ]
    },
    {
      "cell_type": "markdown",
      "metadata": {
        "id": "qqOyH8WzCdGx"
      },
      "source": [
        "## 1. Indexing"
      ]
    },
    {
      "cell_type": "markdown",
      "metadata": {
        "id": "DF31Vibb_AcV"
      },
      "source": [
        "## Loading documents"
      ]
    },
    {
      "cell_type": "code",
      "execution_count": null,
      "metadata": {
        "colab": {
          "base_uri": "https://localhost:8080/"
        },
        "id": "cU2_f6lI--nT",
        "outputId": "c94c3054-b3cb-4342-9b01-d75a5606750a"
      },
      "outputs": [
        {
          "name": "stderr",
          "output_type": "stream",
          "text": [
            "WARNING:langchain_community.utils.user_agent:USER_AGENT environment variable not set, consider setting it to identify your requests.\n"
          ]
        },
        {
          "name": "stdout",
          "output_type": "stream",
          "text": [
            "Total characters: 4247\n"
          ]
        }
      ],
      "source": [
        "import bs4\n",
        "from langchain_community.document_loaders import WebBaseLoader\n",
        "\n",
        "# Only keep post title, headers, and content from the full HTML.\n",
        "bs4_strainer = bs4.SoupStrainer(class_=(\"post-title\", \"post-header\", \"post-content\", \"frame frame-default frame-type-textmedia frame-layout-0\"))\n",
        "loader = WebBaseLoader(\n",
        "    #web_paths=(\"https://lilianweng.github.io/posts/2023-06-23-agent/\",),\n",
        "    web_paths=(\"https://admisiones.unal.edu.co/pregrado/\",),\n",
        "    bs_kwargs={\"parse_only\": bs4_strainer},\n",
        ")\n",
        "docs = loader.load()\n",
        "\n",
        "assert len(docs) == 1\n",
        "print(f\"Total characters: {len(docs[0].page_content)}\")"
      ]
    },
    {
      "cell_type": "code",
      "execution_count": null,
      "metadata": {
        "colab": {
          "base_uri": "https://localhost:8080/"
        },
        "id": "w2c51qn9BMal",
        "outputId": "dbce06b2-d2f2-4ade-f447-ce4aea9bc8ff"
      },
      "outputs": [
        {
          "name": "stdout",
          "output_type": "stream",
          "text": [
            " Convocatoria de admisión para el periodo 2025-02FECHAS DEL PROCESO DE ADMISIÓN A PROGRAMAS CURRICULARES 2025-02Pagar los derechos de inscripción: Del 17 de febrero al 18 de marzo de 2025Formalizar la inscripción: Del 17 de febrero al 18 de marzo de 2025Consultar la citación para presentar la prueba de admisión: A partir del 7 de abril de 2025PRESENTAR LA PRUEBA DE ADMISIÓN:  Domingo 27 de abril de 2025Consultar el puntaje obtenido en la prueba de admisión: 7 de mayo de 2025Inscribir un programa\n"
          ]
        }
      ],
      "source": [
        "print(docs[0].page_content[:500])"
      ]
    },
    {
      "cell_type": "markdown",
      "metadata": {
        "id": "36tOaUjYB5Gk"
      },
      "source": [
        "https://python.langchain.com/docs/how_to/#document-loaders\n"
      ]
    },
    {
      "cell_type": "markdown",
      "metadata": {
        "id": "mDdW5dHhBesO"
      },
      "source": [
        "## Splitting documents"
      ]
    },
    {
      "cell_type": "code",
      "execution_count": null,
      "metadata": {
        "colab": {
          "base_uri": "https://localhost:8080/"
        },
        "id": "UpMSfbAtBiU7",
        "outputId": "0a7d0477-0366-4e37-d8c5-0380348754d1"
      },
      "outputs": [
        {
          "name": "stdout",
          "output_type": "stream",
          "text": [
            "Split blog post into 6 sub-documents.\n"
          ]
        }
      ],
      "source": [
        "from langchain_text_splitters import RecursiveCharacterTextSplitter\n",
        "\n",
        "text_splitter = RecursiveCharacterTextSplitter(\n",
        "    chunk_size=1000,  # chunk size (characters)\n",
        "    chunk_overlap=200,  # chunk overlap (characters)\n",
        "    add_start_index=True,  # track index in original document\n",
        ")\n",
        "all_splits = text_splitter.split_documents(docs)\n",
        "\n",
        "print(f\"Split blog post into {len(all_splits)} sub-documents.\")"
      ]
    },
    {
      "cell_type": "markdown",
      "metadata": {
        "id": "XbtuoleuB-Ys"
      },
      "source": [
        "## Storing documents"
      ]
    },
    {
      "cell_type": "code",
      "execution_count": null,
      "metadata": {
        "colab": {
          "base_uri": "https://localhost:8080/"
        },
        "id": "i3uobYZ1B91q",
        "outputId": "9a6ddf9d-6530-493e-c600-7f9f5e3fd266"
      },
      "outputs": [
        {
          "name": "stdout",
          "output_type": "stream",
          "text": [
            "['a82243b4-5e0c-4e12-8078-643f159a23b6', 'fcb22ffb-4eef-474e-a8c2-2ad0b5798104', '6f9cb8b8-e74c-4839-9f18-adfb55d4e539']\n"
          ]
        }
      ],
      "source": [
        "document_ids = vector_store.add_documents(documents=all_splits)\n",
        "\n",
        "print(document_ids[:3])"
      ]
    },
    {
      "cell_type": "code",
      "execution_count": null,
      "metadata": {
        "colab": {
          "base_uri": "https://localhost:8080/"
        },
        "id": "6r2uOckfCH4D",
        "outputId": "f54d2c69-f346-4e94-995f-9bd112367951"
      },
      "outputs": [
        {
          "name": "stdout",
          "output_type": "stream",
          "text": [
            "['80f3468b-7a8e-4265-86a3-04a41d5386c0', '32ab25f8-a130-471a-90c8-d387f96435a5', '6993d6e6-dfbc-4c56-9cce-fb31998798ae']\n"
          ]
        }
      ],
      "source": [
        "document_ids_xd = vector_store_xd.add_documents(documents=all_splits)\n",
        "\n",
        "print(document_ids_xd[:3])"
      ]
    },
    {
      "cell_type": "markdown",
      "metadata": {
        "id": "hCMWaA_UCmHZ"
      },
      "source": [
        "## 2. Retrieval and Generation"
      ]
    },
    {
      "cell_type": "code",
      "execution_count": null,
      "metadata": {
        "colab": {
          "base_uri": "https://localhost:8080/"
        },
        "id": "ANrD2zRoCoYg",
        "outputId": "6802bc8b-b10a-42ed-c8e7-2fefb78fd2f8"
      },
      "outputs": [
        {
          "name": "stdout",
          "output_type": "stream",
          "text": [
            "You are an assistant for question-answering tasks. Use the following pieces of retrieved context to answer the question. If you don't know the answer, just say that you don't know. Use three sentences maximum and keep the answer concise.\n",
            "Question: (question goes here) \n",
            "Context: (context goes here) \n",
            "Answer:\n"
          ]
        }
      ],
      "source": [
        "from langchain import hub\n",
        "\n",
        "prompt = hub.pull(\"rlm/rag-prompt\")\n",
        "\n",
        "example_messages = prompt.invoke(\n",
        "    {\"context\": \"(context goes here)\", \"question\": \"(question goes here)\"}\n",
        ").to_messages()\n",
        "\n",
        "assert len(example_messages) == 1\n",
        "print(example_messages[0].content)"
      ]
    },
    {
      "cell_type": "markdown",
      "metadata": {
        "id": "Do7BirUtDFL7"
      },
      "source": [
        "## State"
      ]
    },
    {
      "cell_type": "code",
      "execution_count": null,
      "metadata": {
        "id": "Px90xK74DIXy"
      },
      "outputs": [],
      "source": [
        "from langchain_core.documents import Document\n",
        "from typing_extensions import List, TypedDict\n",
        "\n",
        "\n",
        "class State(TypedDict):\n",
        "    question: str\n",
        "    context: List[Document]\n",
        "    answer: str"
      ]
    },
    {
      "cell_type": "markdown",
      "metadata": {
        "id": "P-Rhq3mIDM_j"
      },
      "source": [
        "## Nodes"
      ]
    },
    {
      "cell_type": "code",
      "execution_count": null,
      "metadata": {
        "id": "r-CZoECsDMfd"
      },
      "outputs": [],
      "source": [
        "def retrieve(state: State):\n",
        "    retrieved_docs = vector_store.similarity_search(state[\"question\"]) #similarity search en vector store, la base de datos vectorial\n",
        "    return {\"context\": retrieved_docs}\n",
        "\n",
        "\n",
        "def generate(state: State):\n",
        "    docs_content = \"\\n\\n\".join(doc.page_content for doc in state[\"context\"])\n",
        "    messages = prompt.invoke({\"question\": state[\"question\"], \"context\": docs_content})\n",
        "    response = llm.invoke(messages)\n",
        "    return {\"answer\": response.content}"
      ]
    },
    {
      "cell_type": "markdown",
      "metadata": {
        "id": "PtfN-JheDmcl"
      },
      "source": [
        "## control flow"
      ]
    },
    {
      "cell_type": "code",
      "execution_count": null,
      "metadata": {
        "id": "z0jEvZq6Dn4l"
      },
      "outputs": [],
      "source": [
        "from langgraph.graph import START, StateGraph\n",
        "\n",
        "graph_builder = StateGraph(State).add_sequence([retrieve, generate])\n",
        "graph_builder.add_edge(START, \"retrieve\")\n",
        "graph = graph_builder.compile()"
      ]
    },
    {
      "cell_type": "code",
      "execution_count": null,
      "metadata": {
        "colab": {
          "base_uri": "https://localhost:8080/",
          "height": 251
        },
        "id": "D3_41p5XDpIC",
        "outputId": "597c92de-8f09-4fe6-90f4-4553fa279ca8"
      },
      "outputs": [
        {
          "data": {
            "image/png": "[encoded data removed]",
            "text/plain": [
              "<langgraph.graph.state.CompiledStateGraph object at 0x79ec301dd0d0>"
            ]
          },
          "execution_count": 25,
          "metadata": {},
          "output_type": "execute_result"
        }
      ],
      "source": [
        "graph"
      ]
    },
    {
      "cell_type": "code",
      "execution_count": null,
      "metadata": {
        "colab": {
          "base_uri": "https://localhost:8080/",
          "height": 251
        },
        "id": "IIMAOxpZES_y",
        "outputId": "1b7ffeb9-9357-4606-af69-70eadd4dccdf"
      },
      "outputs": [
        {
          "data": {
            "image/png": "[encoded data removed]",
            "text/plain": [
              "<IPython.core.display.Image object>"
            ]
          },
          "metadata": {},
          "output_type": "display_data"
        }
      ],
      "source": [
        "from IPython.display import Image, display\n",
        "\n",
        "display(Image(graph.get_graph().draw_mermaid_png()))"
      ]
    },
    {
      "cell_type": "markdown",
      "metadata": {
        "id": "pfSkOtpxI8k6"
      },
      "source": [
        "## Usage"
      ]
    },
    {
      "cell_type": "code",
      "execution_count": null,
      "metadata": {
        "colab": {
          "base_uri": "https://localhost:8080/"
        },
        "id": "c_OSTPvWETJz",
        "outputId": "78a70822-953e-4a15-c0c4-a615e35b2b94"
      },
      "outputs": [
        {
          "name": "stdout",
          "output_type": "stream",
          "text": [
            "Context: [Document(id='a82243b4-5e0c-4e12-8078-643f159a23b6', metadata={'source': 'https://admisiones.unal.edu.co/pregrado/', 'start_index': 1}, page_content='Convocatoria de admisión para el periodo 2025-02FECHAS DEL PROCESO DE ADMISIÓN A PROGRAMAS CURRICULARES 2025-02Pagar los derechos de inscripción: Del 17 de febrero al 18 de marzo de 2025Formalizar la inscripción: Del 17 de febrero al 18 de marzo de 2025Consultar la citación para presentar la prueba de admisión: A\\xa0partir del 7 de abril de 2025PRESENTAR LA PRUEBA DE ADMISIÓN:\\xa0 Domingo 27 de abril de 2025Consultar el puntaje obtenido en la prueba de admisión: 7 de mayo de 2025Inscribir un programa curricular (Puntaje mayor o igual a 450): Del 7 al 12 de mayo de 2025CONSULTAR RESULTADOS ADMITIDOS: 15 de mayo de 2025Si es admitido, enviar los documentos requeridos a la respectiva División de Registro y Matrícula, teniendo en cuenta el calendario establecido: Del 19 al\\xa0 23 de\\xa0 mayo de 2025FECHAS IMPORTANTES PARA ASPIRANTES A PROGRAMAS CON PRUEBAS ESPECÍFICAS* \\xa0Consultar la citación para presentar las pruebas específicas de Música \\t\\t\\t(Composición, Dirección, Investigación en Pedagogía'), Document(id='a919ce0c-9a58-4fc7-a419-ec859dfb24e1', metadata={'source': 'https://admisiones.unal.edu.co/pregrado/', 'start_index': 2389}, page_content='sobre las características de las pruebas aquí.FECHAS IMPORTANTES PARA TODOS LOS ASPIRANTES QUE NO FUERON ADMITIDOS A ALGÚN PROGRAMA CURRICULAR (Art. 12 de la Resolución 19 de 2022 de la Vicerrectoría Académica)Inscribir un programa curricular con cupos disponibles:\\xa0 Del 6 al 11 de junio de 2025CONSULTAR RESULTADOS DE ADMITIDOS: 13 de junio de 2025Si es admitido, enviar los documentos requeridos a la respectiva División de Registro y Matrícula, teniendo en cuenta el calendario establecido: Del 16 de junio al 20 de junio de 2025Importante: En caso de haber sido admitido, deberá hacer uso del derecho de matrícula inicial, para lo cual deberá radicar la documentación requerida, dentro de los tiempos definidos por la respectiva Sede. En caso de no hacerlo, perderá la condición de admitido.Los Datos Personales serán tratados conforme a la Ley 1581 de 2012, o a las normas que la sustituyan o le den alcance, y a nuestra Política de Datos Personales, que podrá consultar en la página web'), Document(id='6f9cb8b8-e74c-4839-9f18-adfb55d4e539', metadata={'source': 'https://admisiones.unal.edu.co/pregrado/', 'start_index': 1601}, page_content='2025Consultar si fue convocado o no para presentar las pruebas específicas de Artes Plásticas y Cine y Televisión: 7 de mayo\\xa0de 2025Presentar las pruebas específicas de Artes Plásticas y Cine y Televisión: 16 de mayo de 2025CONSULTAR RESULTADOS DE ADMITIDOS A ARTES PLÁSTICAS Y CINE Y TELEVISIÓN: 23 de mayo de 2025Si es admitido a Artes Plásticas o Cine y Televisión, enviar los documentos requeridos a la respectiva División de Registro y Matrícula, teniendo en cuenta el calendario establecido: Del 26 al 30 de mayo* Las pruebas específicas serán aplicadas únicamente en la Sede que ofrece el programa curricular (Bogotá o Medellín), en las fechas indicadas en la citación.Los aspirantes que se presentan a los programas curriculares con prueba específica pueden consultar información sobre las características de las pruebas aquí.FECHAS IMPORTANTES PARA TODOS LOS ASPIRANTES QUE NO FUERON ADMITIDOS A ALGÚN PROGRAMA CURRICULAR (Art. 12 de la Resolución 19 de 2022 de la Vicerrectoría'), Document(id='fcb22ffb-4eef-474e-a8c2-2ad0b5798104', metadata={'source': 'https://admisiones.unal.edu.co/pregrado/', 'start_index': 802}, page_content='IMPORTANTES PARA ASPIRANTES A PROGRAMAS CON PRUEBAS ESPECÍFICAS* \\xa0Consultar la citación para presentar las pruebas específicas de Música \\t\\t\\t(Composición, Dirección, Investigación en Pedagogía Instrumental o Jazz)\\xa0 y Música InstrumentalPrimera prueba: 28 de marzo de 2025Segunda prueba: 10 de abril de 2025Presentar las pruebas específicas de Música \\t\\t\\t(Composición, Dirección, Investigación en Pedagogía Instrumental o Jazz)\\xa0 y Música InstrumentalPrimera prueba: 7 de abril de 2025Segunda prueba: 11 de abril de 2025CONSULTAR RESULTADOS DE ADMITIDOS A MÚSICA Y MÚSICA INSTRUMENTAL: 15 de mayo de 2025Si es admitido a Música o Música Instrumental, enviar los documentos requeridos a la respectiva División de Registro y Matrícula, teniendo en cuenta el calendario establecido: Del 19 al 23 de mayode 2025Consultar si fue convocado o no para presentar las pruebas específicas de Artes Plásticas y Cine y Televisión: 7 de mayo\\xa0de 2025Presentar las pruebas específicas de Artes Plásticas y Cine y')]\n",
            "\n",
            "\n",
            "Answer: Las fechas del proceso de admisión son las siguientes: inscripción del 17 de febrero al 18 de marzo de 2025, presentación de la prueba de admisión el 27 de abril de 2025 y consulta de resultados de admitidos el 15 de mayo de 2025. Además, si es admitido, los documentos deben enviarse del 19 al 23 de mayo de 2025. Para aspirantes a programas con pruebas específicas, se aplica un calendario diferente.\n"
          ]
        }
      ],
      "source": [
        "result = graph.invoke({\"question\": \"Cuales son las fechas del proceso de admisión?\"})\n",
        "\n",
        "print(f'Context: {result[\"context\"]}\\n\\n')\n",
        "print(f'Answer: {result[\"answer\"]}')"
      ]
    },
    {
      "cell_type": "markdown",
      "metadata": {
        "id": "HocpFzu3KHdS"
      },
      "source": [
        "## stream steps"
      ]
    },
    {
      "cell_type": "code",
      "execution_count": null,
      "metadata": {
        "colab": {
          "base_uri": "https://localhost:8080/"
        },
        "id": "1W-7APx9KK1F",
        "outputId": "4f1dfdb4-6e75-40d7-f3b1-b9fab8d3d7fe"
      },
      "outputs": [
        {
          "name": "stdout",
          "output_type": "stream",
          "text": [
            "{'retrieve': {'context': [Document(id='a82243b4-5e0c-4e12-8078-643f159a23b6', metadata={'source': 'https://admisiones.unal.edu.co/pregrado/', 'start_index': 1}, page_content='Convocatoria de admisión para el periodo 2025-02FECHAS DEL PROCESO DE ADMISIÓN A PROGRAMAS CURRICULARES 2025-02Pagar los derechos de inscripción: Del 17 de febrero al 18 de marzo de 2025Formalizar la inscripción: Del 17 de febrero al 18 de marzo de 2025Consultar la citación para presentar la prueba de admisión: A\\xa0partir del 7 de abril de 2025PRESENTAR LA PRUEBA DE ADMISIÓN:\\xa0 Domingo 27 de abril de 2025Consultar el puntaje obtenido en la prueba de admisión: 7 de mayo de 2025Inscribir un programa curricular (Puntaje mayor o igual a 450): Del 7 al 12 de mayo de 2025CONSULTAR RESULTADOS ADMITIDOS: 15 de mayo de 2025Si es admitido, enviar los documentos requeridos a la respectiva División de Registro y Matrícula, teniendo en cuenta el calendario establecido: Del 19 al\\xa0 23 de\\xa0 mayo de 2025FECHAS IMPORTANTES PARA ASPIRANTES A PROGRAMAS CON PRUEBAS ESPECÍFICAS* \\xa0Consultar la citación para presentar las pruebas específicas de Música \\t\\t\\t(Composición, Dirección, Investigación en Pedagogía'), Document(id='a919ce0c-9a58-4fc7-a419-ec859dfb24e1', metadata={'source': 'https://admisiones.unal.edu.co/pregrado/', 'start_index': 2389}, page_content='sobre las características de las pruebas aquí.FECHAS IMPORTANTES PARA TODOS LOS ASPIRANTES QUE NO FUERON ADMITIDOS A ALGÚN PROGRAMA CURRICULAR (Art. 12 de la Resolución 19 de 2022 de la Vicerrectoría Académica)Inscribir un programa curricular con cupos disponibles:\\xa0 Del 6 al 11 de junio de 2025CONSULTAR RESULTADOS DE ADMITIDOS: 13 de junio de 2025Si es admitido, enviar los documentos requeridos a la respectiva División de Registro y Matrícula, teniendo en cuenta el calendario establecido: Del 16 de junio al 20 de junio de 2025Importante: En caso de haber sido admitido, deberá hacer uso del derecho de matrícula inicial, para lo cual deberá radicar la documentación requerida, dentro de los tiempos definidos por la respectiva Sede. En caso de no hacerlo, perderá la condición de admitido.Los Datos Personales serán tratados conforme a la Ley 1581 de 2012, o a las normas que la sustituyan o le den alcance, y a nuestra Política de Datos Personales, que podrá consultar en la página web'), Document(id='6f9cb8b8-e74c-4839-9f18-adfb55d4e539', metadata={'source': 'https://admisiones.unal.edu.co/pregrado/', 'start_index': 1601}, page_content='2025Consultar si fue convocado o no para presentar las pruebas específicas de Artes Plásticas y Cine y Televisión: 7 de mayo\\xa0de 2025Presentar las pruebas específicas de Artes Plásticas y Cine y Televisión: 16 de mayo de 2025CONSULTAR RESULTADOS DE ADMITIDOS A ARTES PLÁSTICAS Y CINE Y TELEVISIÓN: 23 de mayo de 2025Si es admitido a Artes Plásticas o Cine y Televisión, enviar los documentos requeridos a la respectiva División de Registro y Matrícula, teniendo en cuenta el calendario establecido: Del 26 al 30 de mayo* Las pruebas específicas serán aplicadas únicamente en la Sede que ofrece el programa curricular (Bogotá o Medellín), en las fechas indicadas en la citación.Los aspirantes que se presentan a los programas curriculares con prueba específica pueden consultar información sobre las características de las pruebas aquí.FECHAS IMPORTANTES PARA TODOS LOS ASPIRANTES QUE NO FUERON ADMITIDOS A ALGÚN PROGRAMA CURRICULAR (Art. 12 de la Resolución 19 de 2022 de la Vicerrectoría'), Document(id='fcb22ffb-4eef-474e-a8c2-2ad0b5798104', metadata={'source': 'https://admisiones.unal.edu.co/pregrado/', 'start_index': 802}, page_content='IMPORTANTES PARA ASPIRANTES A PROGRAMAS CON PRUEBAS ESPECÍFICAS* \\xa0Consultar la citación para presentar las pruebas específicas de Música \\t\\t\\t(Composición, Dirección, Investigación en Pedagogía Instrumental o Jazz)\\xa0 y Música InstrumentalPrimera prueba: 28 de marzo de 2025Segunda prueba: 10 de abril de 2025Presentar las pruebas específicas de Música \\t\\t\\t(Composición, Dirección, Investigación en Pedagogía Instrumental o Jazz)\\xa0 y Música InstrumentalPrimera prueba: 7 de abril de 2025Segunda prueba: 11 de abril de 2025CONSULTAR RESULTADOS DE ADMITIDOS A MÚSICA Y MÚSICA INSTRUMENTAL: 15 de mayo de 2025Si es admitido a Música o Música Instrumental, enviar los documentos requeridos a la respectiva División de Registro y Matrícula, teniendo en cuenta el calendario establecido: Del 19 al 23 de mayode 2025Consultar si fue convocado o no para presentar las pruebas específicas de Artes Plásticas y Cine y Televisión: 7 de mayo\\xa0de 2025Presentar las pruebas específicas de Artes Plásticas y Cine y')]}}\n",
            "\n",
            "----------------\n",
            "\n",
            "{'generate': {'answer': 'Las fechas del proceso de admisión para el periodo 2025-02 son las siguientes: pagar y formalizar la inscripción del 17 de febrero al 18 de marzo de 2025; presentar la prueba de admisión el 27 de abril de 2025; y consultar resultados de admitidos el 15 de mayo de 2025.'}}\n",
            "\n",
            "----------------\n",
            "\n"
          ]
        }
      ],
      "source": [
        "for step in graph.stream(\n",
        "    {\"question\": \"Cuales son las fechas del proceso de admisión?\"}, stream_mode=\"updates\"\n",
        "):\n",
        "    print(f\"{step}\\n\\n----------------\\n\")"
      ]
    },
    {
      "cell_type": "markdown",
      "metadata": {
        "id": "UU67TK8jKb4U"
      },
      "source": [
        "## stream tokens"
      ]
    },
    {
      "cell_type": "code",
      "execution_count": null,
      "metadata": {
        "colab": {
          "base_uri": "https://localhost:8080/"
        },
        "id": "7R6ONAP8KeP3",
        "outputId": "d1c0fe47-9093-4b0a-db7e-b4cc64f14167"
      },
      "outputs": [
        {
          "name": "stdout",
          "output_type": "stream",
          "text": [
            "|Las| fechas| del| proceso| de| adm|isión| para| el| periodo| |202|5|-|02| son| las| siguientes|:| pagar| y| formal|izar| la| inscripción| del| |17| de| febrero| al| |18| de| marzo| de| |202|5|,| presentar| la| prueba| de| adm|isión| el| |27| de| abril| de| |202|5|,| y| consultar| los| resultados| de| admit|idos| el| |15| de| mayo| de| |202|5|.| Además|,| si| es| admit|ido|,| debe| enviar| los| documentos| requer|idos| entre| el| |19| y| el| |23| de| mayo| de| |202|5|.| Para| los| que| no| fueron| admit|idos|,| podrán| ins|cribir| programas| con| cup|os| disponibles| del| |6| al| |11| de| junio| de| |202|5|.||"
          ]
        }
      ],
      "source": [
        "for message, metadata in graph.stream(\n",
        "    {\"question\": \"Cuales son las fechas del proceso de admisión?\"}, stream_mode=\"messages\"\n",
        "):\n",
        "    print(message.content, end=\"|\")"
      ]
    },
    {
      "cell_type": "markdown",
      "metadata": {
        "id": "KI3cFnVZLIJ9"
      },
      "source": [
        "## Query analisis"
      ]
    },
    {
      "cell_type": "code",
      "execution_count": null,
      "metadata": {
        "colab": {
          "base_uri": "https://localhost:8080/"
        },
        "id": "aUM6xSxxLKaw",
        "outputId": "ed2012cc-233d-4f33-ce9b-3031aaea363c"
      },
      "outputs": [
        {
          "data": {
            "text/plain": [
              "{'source': 'https://admisiones.unal.edu.co/pregrado/',\n",
              " 'start_index': 1,\n",
              " 'section': 'beginning'}"
            ]
          },
          "execution_count": 32,
          "metadata": {},
          "output_type": "execute_result"
        }
      ],
      "source": [
        "total_documents = len(all_splits)\n",
        "third = total_documents // 3\n",
        "\n",
        "for i, document in enumerate(all_splits):\n",
        "    if i < third:\n",
        "        document.metadata[\"section\"] = \"beginning\"\n",
        "    elif i < 2 * third:\n",
        "        document.metadata[\"section\"] = \"middle\"\n",
        "    else:\n",
        "        document.metadata[\"section\"] = \"end\"\n",
        "\n",
        "\n",
        "all_splits[0].metadata"
      ]
    },
    {
      "cell_type": "code",
      "execution_count": null,
      "metadata": {
        "colab": {
          "base_uri": "https://localhost:8080/"
        },
        "id": "ueH6933dLO7r",
        "outputId": "53c8897d-d338-49c2-a859-5bc4e34089c0"
      },
      "outputs": [
        {
          "data": {
            "text/plain": [
              "6"
            ]
          },
          "execution_count": 33,
          "metadata": {},
          "output_type": "execute_result"
        }
      ],
      "source": [
        "total_documents"
      ]
    }
  ],
  "metadata": {
    "colab": {
      "provenance": []
    },
    "kernelspec": {
      "display_name": "Python 3",
      "name": "python3"
    },
    "language_info": {
      "name": "python"
    }
  },
  "nbformat": 4,
  "nbformat_minor": 0
}
