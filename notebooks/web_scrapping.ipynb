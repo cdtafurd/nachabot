{
 "cells": [
  {
   "cell_type": "markdown",
   "id": "069cb0c1",
   "metadata": {},
   "source": [
    "# Model"
   ]
  },
  {
   "cell_type": "code",
   "execution_count": 1,
   "id": "737e3b0a",
   "metadata": {},
   "outputs": [],
   "source": [
    "from langchain.chat_models import init_chat_model\n",
    "\n",
    "llm = init_chat_model(\"gpt-4o-mini\", model_provider=\"openai\")"
   ]
  },
  {
   "cell_type": "markdown",
   "id": "4dc4809c",
   "metadata": {},
   "source": [
    "# Embedding Model"
   ]
  },
  {
   "cell_type": "code",
   "execution_count": null,
   "id": "776b4c5c",
   "metadata": {},
   "outputs": [],
   "source": [
    "from langchain_openai import OpenAIEmbeddings\n",
    "\n",
    "embeddings = OpenAIEmbeddings(model=\"text-embedding-3-large\")"
   ]
  },
  {
   "cell_type": "markdown",
   "id": "d62862db",
   "metadata": {},
   "source": [
    "# Vector Store"
   ]
  },
  {
   "cell_type": "code",
   "execution_count": 3,
   "id": "523a853d",
   "metadata": {},
   "outputs": [],
   "source": [
    "from langchain_core.vectorstores import InMemoryVectorStore\n",
    "\n",
    "vector_store = InMemoryVectorStore(embeddings)"
   ]
  },
  {
   "cell_type": "markdown",
   "id": "cc7a2f21",
   "metadata": {},
   "source": [
    "# Chains"
   ]
  },
  {
   "cell_type": "markdown",
   "id": "0683066f",
   "metadata": {},
   "source": [
    "# WebLoader"
   ]
  },
  {
   "cell_type": "code",
   "execution_count": 76,
   "id": "e580cf19",
   "metadata": {},
   "outputs": [],
   "source": [
    "url1 = \"https://admisiones.unal.edu.co/posgrado/admision-regular/\"\n",
    "url2 = \"https://admisiones.unal.edu.co/posgrado/guia-paso-a-paso-posgrado/\"\n",
    "url = \"https://admisiones.unal.edu.co/posgrado/oferta-de-programas-curriculares/maestrias/\"\n",
    "\n",
    "web_paths = (url,\n",
    "             )"
   ]
  },
  {
   "cell_type": "code",
   "execution_count": null,
   "id": "1a47e27c",
   "metadata": {},
   "outputs": [],
   "source": [
    "import bs4\n",
    "from langchain import hub\n",
    "from langchain_community.document_loaders import WebBaseLoader\n",
    "from langchain_core.documents import Document\n",
    "from langchain_text_splitters import RecursiveCharacterTextSplitter\n",
    "from typing_extensions import List, TypedDict\n",
    "\n",
    "bs4_strainer = bs4.SoupStrainer(\n",
    "    class_=(\n",
    "        \"frame frame-default frame-type-textmedia frame-layout-0\", \n",
    "        \"frame frame-default frame-type-header frame-layout-0\",\n",
    "        \"DOCTORADO\",\n",
    "        \"PALMIRA\",\n",
    "        \"MAESTRÍA\",\n",
    "        \"ESPECIALIZACIÓN\",\n",
    "        ),)\n",
    "\n",
    "\n",
    "# Load and chunk contents of the blog\n",
    "\n",
    "from langchain_community.document_loaders import WebBaseLoader\n",
    "\n",
    "loader = WebBaseLoader(\n",
    "    web_paths=web_paths, #lista de URLs del portal de admisiones\n",
    "    bs_kwargs={\"parse_only\": bs4_strainer},\n",
    "    bs_get_text_kwargs={\"separator\": \" \", \"strip\": True},\n",
    ")\n",
    "docs = loader.load()"
   ]
  },
  {
   "cell_type": "code",
   "execution_count": 42,
   "id": "1ebf469d",
   "metadata": {},
   "outputs": [
    {
     "name": "stdout",
     "output_type": "stream",
     "text": [
      "Total characters: 8695\n"
     ]
    }
   ],
   "source": [
    "# Contar los caracteres totals de los documentos\n",
    "total_chars = 0\n",
    "for doc in docs:\n",
    "    total_chars += len(doc.page_content)\n",
    "print(f\"Total characters: {total_chars}\")"
   ]
  },
  {
   "cell_type": "code",
   "execution_count": 78,
   "id": "d78365ec",
   "metadata": {},
   "outputs": [
    {
     "name": "stdout",
     "output_type": "stream",
     "text": [
      "Total characters: 741\n"
     ]
    }
   ],
   "source": [
    "print(f\"Total characters: {len(docs[0].page_content)}\")"
   ]
  },
  {
   "cell_type": "code",
   "execution_count": 79,
   "id": "52cc0be6",
   "metadata": {},
   "outputs": [
    {
     "name": "stdout",
     "output_type": "stream",
     "text": [
      "Maestrías La Universidad Nacional de Colombia, en sus diferentes Sedes , ofrece programas curriculares de Maestría en diferentes áreas de investigación; sin embargo, no todos los programas son de oferta semestral. ( Acuerdo 033 de 2007 del Consejo Superior Universitario \"Por el cual se establecen los lineamientos básicos para el proceso de formación de los estudiantes de la Universidad Nacional de Colombia a través de sus programas curriculares\") Consulte la convocatoria y la normativa vigente del proceso de admisión antes de hacer su pago. Normativa Resolución 035 de 2014 de la Vicerrectoría Académica \"Por la cual se reglamenta el proceso de admisión a los programas curriculares de posgrado de la Universidad Nacional de Colombia\".\n"
     ]
    }
   ],
   "source": [
    "print(docs[0].page_content)"
   ]
  },
  {
   "cell_type": "code",
   "execution_count": null,
   "id": "68de8cae",
   "metadata": {},
   "outputs": [],
   "source": []
  },
  {
   "cell_type": "code",
   "execution_count": null,
   "id": "9d3f092a",
   "metadata": {},
   "outputs": [],
   "source": []
  }
 ],
 "metadata": {
  "kernelspec": {
   "display_name": "3.10.15",
   "language": "python",
   "name": "python3"
  },
  "language_info": {
   "codemirror_mode": {
    "name": "ipython",
    "version": 3
   },
   "file_extension": ".py",
   "mimetype": "text/x-python",
   "name": "python",
   "nbconvert_exporter": "python",
   "pygments_lexer": "ipython3",
   "version": "3.10.15"
  }
 },
 "nbformat": 4,
 "nbformat_minor": 5
}
